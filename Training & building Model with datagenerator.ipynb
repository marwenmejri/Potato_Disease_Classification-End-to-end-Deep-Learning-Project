{
 "cells": [
  {
   "cell_type": "code",
   "execution_count": 1,
   "metadata": {},
   "outputs": [],
   "source": [
    "import tensorflow as tf\n",
    "from tensorflow.keras import layers, models\n",
    "import matplotlib.pyplot as plt\n",
    "import numpy as np\n",
    "from tensorflow.keras.preprocessing.image import ImageDataGenerator"
   ]
  },
  {
   "cell_type": "code",
   "execution_count": 5,
   "metadata": {},
   "outputs": [],
   "source": [
    "BATCH_SIZE = 32\n",
    "IMAGE_SIZE = 256\n",
    "CHANNELS = 3"
   ]
  },
  {
   "cell_type": "code",
   "execution_count": 6,
   "metadata": {},
   "outputs": [],
   "source": [
    "datagen = ImageDataGenerator(\n",
    "                rescale=1./255,\n",
    "                horizontal_flip=True,\n",
    "                rotation_range=0.2)"
   ]
  },
  {
   "cell_type": "code",
   "execution_count": 7,
   "metadata": {},
   "outputs": [
    {
     "name": "stdout",
     "output_type": "stream",
     "text": [
      "Found 1506 images belonging to 3 classes.\n"
     ]
    }
   ],
   "source": [
    "train_generator = train_datagen.flow_from_directory(\n",
    "        'dataset/train',\n",
    "        target_size=(IMAGE_SIZE,IMAGE_SIZE),\n",
    "        batch_size=32,\n",
    "        class_mode=\"sparse\")"
   ]
  },
  {
   "cell_type": "code",
   "execution_count": 8,
   "metadata": {},
   "outputs": [
    {
     "name": "stdout",
     "output_type": "stream",
     "text": [
      "Found 215 images belonging to 3 classes.\n"
     ]
    }
   ],
   "source": [
    "val_generator = train_datagen.flow_from_directory(\n",
    "        'dataset/val',\n",
    "        target_size=(IMAGE_SIZE,IMAGE_SIZE),\n",
    "        batch_size=32,\n",
    "        class_mode=\"sparse\")"
   ]
  },
  {
   "cell_type": "code",
   "execution_count": 9,
   "metadata": {},
   "outputs": [
    {
     "name": "stdout",
     "output_type": "stream",
     "text": [
      "Found 431 images belonging to 3 classes.\n"
     ]
    }
   ],
   "source": [
    "test_generator = train_datagen.flow_from_directory(\n",
    "        'dataset/test',\n",
    "        target_size=(IMAGE_SIZE,IMAGE_SIZE),\n",
    "        batch_size=32,\n",
    "        class_mode=\"sparse\")"
   ]
  },
  {
   "cell_type": "code",
   "execution_count": 10,
   "metadata": {},
   "outputs": [
    {
     "data": {
      "text/plain": [
       "['Potato___Early_blight', 'Potato___Late_blight', 'Potato___healthy']"
      ]
     },
     "execution_count": 10,
     "metadata": {},
     "output_type": "execute_result"
    }
   ],
   "source": [
    "class_names = list(train_generator.class_indices.keys())\n",
    "class_names"
   ]
  },
  {
   "cell_type": "markdown",
   "metadata": {},
   "source": [
    "## Building the Model"
   ]
  },
  {
   "cell_type": "code",
   "execution_count": 11,
   "metadata": {},
   "outputs": [],
   "source": [
    "input_shape = (IMAGE_SIZE, IMAGE_SIZE, CHANNELS)\n",
    "\n",
    "model = models.Sequential([\n",
    "    layers.InputLayer(input_shape=input_shape),\n",
    "    layers.Conv2D(32, kernel_size = (3,3), activation='relu'),\n",
    "    layers.MaxPooling2D((2, 2)),\n",
    "    layers.Conv2D(64,  kernel_size = (3,3), activation='relu'),\n",
    "    layers.MaxPooling2D((2, 2)),\n",
    "    layers.Conv2D(64,  kernel_size = (3,3), activation='relu'),\n",
    "    layers.MaxPooling2D((2, 2)),\n",
    "    layers.Conv2D(64, (3, 3), activation='relu'),\n",
    "    layers.MaxPooling2D((2, 2)),\n",
    "    layers.Conv2D(64, (3, 3), activation='relu'),\n",
    "    layers.MaxPooling2D((2, 2)),\n",
    "    layers.Conv2D(64, (3, 3), activation='relu'),\n",
    "    layers.MaxPooling2D((2, 2)),\n",
    "    layers.Flatten(),\n",
    "    layers.Dense(64, activation='relu'),\n",
    "    layers.Dense(len(class_names), activation='softmax'),\n",
    "])"
   ]
  },
  {
   "cell_type": "code",
   "execution_count": 12,
   "metadata": {},
   "outputs": [
    {
     "name": "stdout",
     "output_type": "stream",
     "text": [
      "Model: \"sequential\"\n",
      "_________________________________________________________________\n",
      "Layer (type)                 Output Shape              Param #   \n",
      "=================================================================\n",
      "conv2d (Conv2D)              (None, 254, 254, 32)      896       \n",
      "_________________________________________________________________\n",
      "max_pooling2d (MaxPooling2D) (None, 127, 127, 32)      0         \n",
      "_________________________________________________________________\n",
      "conv2d_1 (Conv2D)            (None, 125, 125, 64)      18496     \n",
      "_________________________________________________________________\n",
      "max_pooling2d_1 (MaxPooling2 (None, 62, 62, 64)        0         \n",
      "_________________________________________________________________\n",
      "conv2d_2 (Conv2D)            (None, 60, 60, 64)        36928     \n",
      "_________________________________________________________________\n",
      "max_pooling2d_2 (MaxPooling2 (None, 30, 30, 64)        0         \n",
      "_________________________________________________________________\n",
      "conv2d_3 (Conv2D)            (None, 28, 28, 64)        36928     \n",
      "_________________________________________________________________\n",
      "max_pooling2d_3 (MaxPooling2 (None, 14, 14, 64)        0         \n",
      "_________________________________________________________________\n",
      "conv2d_4 (Conv2D)            (None, 12, 12, 64)        36928     \n",
      "_________________________________________________________________\n",
      "max_pooling2d_4 (MaxPooling2 (None, 6, 6, 64)          0         \n",
      "_________________________________________________________________\n",
      "conv2d_5 (Conv2D)            (None, 4, 4, 64)          36928     \n",
      "_________________________________________________________________\n",
      "max_pooling2d_5 (MaxPooling2 (None, 2, 2, 64)          0         \n",
      "_________________________________________________________________\n",
      "flatten (Flatten)            (None, 256)               0         \n",
      "_________________________________________________________________\n",
      "dense (Dense)                (None, 64)                16448     \n",
      "_________________________________________________________________\n",
      "dense_1 (Dense)              (None, 3)                 195       \n",
      "=================================================================\n",
      "Total params: 183,747\n",
      "Trainable params: 183,747\n",
      "Non-trainable params: 0\n",
      "_________________________________________________________________\n"
     ]
    }
   ],
   "source": [
    "model.summary()"
   ]
  },
  {
   "cell_type": "code",
   "execution_count": 13,
   "metadata": {},
   "outputs": [],
   "source": [
    "# Compile the model\n",
    "model.compile(\n",
    "    optimizer='adam',\n",
    "    loss=tf.keras.losses.SparseCategoricalCrossentropy(from_logits=False),\n",
    "    metrics=['accuracy']\n",
    ")"
   ]
  },
  {
   "cell_type": "code",
   "execution_count": 14,
   "metadata": {},
   "outputs": [
    {
     "data": {
      "text/plain": [
       "48"
      ]
     },
     "execution_count": 14,
     "metadata": {},
     "output_type": "execute_result"
    }
   ],
   "source": [
    "len(train_generator)"
   ]
  },
  {
   "cell_type": "code",
   "execution_count": 15,
   "metadata": {},
   "outputs": [
    {
     "name": "stderr",
     "output_type": "stream",
     "text": [
      "<frozen importlib._bootstrap>:219: RuntimeWarning: numpy.ufunc size changed, may indicate binary incompatibility. Expected 192 from C header, got 216 from PyObject\n"
     ]
    },
    {
     "name": "stdout",
     "output_type": "stream",
     "text": [
      "Epoch 1/20\n",
      "48/48 [==============================] - 158s 3s/step - loss: 0.9073 - accuracy: 0.4827 - val_loss: 0.8836 - val_accuracy: 0.4651\n",
      "Epoch 2/20\n",
      "48/48 [==============================] - 157s 3s/step - loss: 0.6798 - accuracy: 0.6892 - val_loss: 0.5955 - val_accuracy: 0.7721\n",
      "Epoch 3/20\n",
      "48/48 [==============================] - 185s 4s/step - loss: 0.4105 - accuracy: 0.8293 - val_loss: 0.6096 - val_accuracy: 0.7488\n",
      "Epoch 4/20\n",
      "48/48 [==============================] - 161s 3s/step - loss: 0.3403 - accuracy: 0.8659 - val_loss: 0.3617 - val_accuracy: 0.8465\n",
      "Epoch 5/20\n",
      "48/48 [==============================] - 166s 3s/step - loss: 0.3275 - accuracy: 0.8645 - val_loss: 0.3374 - val_accuracy: 0.8465\n",
      "Epoch 6/20\n",
      "48/48 [==============================] - 166s 3s/step - loss: 0.2785 - accuracy: 0.8951 - val_loss: 0.2714 - val_accuracy: 0.8977\n",
      "Epoch 7/20\n",
      "48/48 [==============================] - 168s 3s/step - loss: 0.2617 - accuracy: 0.9004 - val_loss: 0.4437 - val_accuracy: 0.8047\n",
      "Epoch 8/20\n",
      "48/48 [==============================] - 166s 3s/step - loss: 0.2049 - accuracy: 0.9150 - val_loss: 0.2766 - val_accuracy: 0.8791\n",
      "Epoch 9/20\n",
      "48/48 [==============================] - 166s 3s/step - loss: 0.1343 - accuracy: 0.9489 - val_loss: 0.1410 - val_accuracy: 0.9349\n",
      "Epoch 10/20\n",
      "48/48 [==============================] - 170s 4s/step - loss: 0.2169 - accuracy: 0.9170 - val_loss: 0.2863 - val_accuracy: 0.8744\n",
      "Epoch 11/20\n",
      "48/48 [==============================] - 155s 3s/step - loss: 0.1858 - accuracy: 0.9270 - val_loss: 0.1766 - val_accuracy: 0.9209\n",
      "Epoch 12/20\n",
      "48/48 [==============================] - 178s 4s/step - loss: 0.0976 - accuracy: 0.9655 - val_loss: 0.3073 - val_accuracy: 0.9023\n",
      "Epoch 13/20\n",
      "48/48 [==============================] - 180s 4s/step - loss: 0.0987 - accuracy: 0.9661 - val_loss: 0.1742 - val_accuracy: 0.9302\n",
      "Epoch 14/20\n",
      "48/48 [==============================] - 160s 3s/step - loss: 0.0872 - accuracy: 0.9628 - val_loss: 0.1023 - val_accuracy: 0.9674\n",
      "Epoch 15/20\n",
      "48/48 [==============================] - 163s 3s/step - loss: 0.1785 - accuracy: 0.9343 - val_loss: 0.1135 - val_accuracy: 0.9488\n",
      "Epoch 16/20\n",
      "48/48 [==============================] - 165s 3s/step - loss: 0.0559 - accuracy: 0.9788 - val_loss: 0.0815 - val_accuracy: 0.9581\n",
      "Epoch 17/20\n",
      "48/48 [==============================] - 171s 4s/step - loss: 0.0467 - accuracy: 0.9861 - val_loss: 0.0507 - val_accuracy: 0.9860\n",
      "Epoch 18/20\n",
      "48/48 [==============================] - 184s 4s/step - loss: 0.0523 - accuracy: 0.9801 - val_loss: 0.0305 - val_accuracy: 0.9907\n",
      "Epoch 19/20\n",
      "48/48 [==============================] - 176s 4s/step - loss: 0.0251 - accuracy: 0.9934 - val_loss: 0.0194 - val_accuracy: 0.9907\n",
      "Epoch 20/20\n",
      "48/48 [==============================] - 168s 3s/step - loss: 0.0745 - accuracy: 0.9728 - val_loss: 0.1235 - val_accuracy: 0.9349\n"
     ]
    }
   ],
   "source": [
    "history = model.fit(\n",
    "    train_generator,\n",
    "    steps_per_epoch=len(train_generator),\n",
    "    batch_size=32,\n",
    "    validation_data=val_generator,\n",
    "    validation_steps=len(val_generator),\n",
    "    verbose=1,\n",
    "    epochs=20,\n",
    ")"
   ]
  },
  {
   "cell_type": "code",
   "execution_count": 16,
   "metadata": {},
   "outputs": [
    {
     "name": "stdout",
     "output_type": "stream",
     "text": [
      "14/14 [==============================] - 32s 2s/step - loss: 0.1549 - accuracy: 0.9582\n"
     ]
    },
    {
     "data": {
      "text/plain": [
       "[0.15492446720600128, 0.9582366347312927]"
      ]
     },
     "execution_count": 16,
     "metadata": {},
     "output_type": "execute_result"
    }
   ],
   "source": [
    "scores = model.evaluate(test_generator)\n",
    "scores"
   ]
  },
  {
   "cell_type": "code",
   "execution_count": null,
   "metadata": {},
   "outputs": [],
   "source": []
  }
 ],
 "metadata": {
  "kernelspec": {
   "display_name": "Python 3",
   "language": "python",
   "name": "python3"
  },
  "language_info": {
   "codemirror_mode": {
    "name": "ipython",
    "version": 3
   },
   "file_extension": ".py",
   "mimetype": "text/x-python",
   "name": "python",
   "nbconvert_exporter": "python",
   "pygments_lexer": "ipython3",
   "version": "3.8.3"
  }
 },
 "nbformat": 4,
 "nbformat_minor": 4
}
